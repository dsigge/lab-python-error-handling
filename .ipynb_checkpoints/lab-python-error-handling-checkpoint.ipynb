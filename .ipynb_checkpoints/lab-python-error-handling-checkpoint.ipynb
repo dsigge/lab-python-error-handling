{
 "cells": [
  {
   "cell_type": "markdown",
   "id": "25d7736c-ba17-4aff-b6bb-66eba20fbf4e",
   "metadata": {},
   "source": [
    "# Lab | Error Handling"
   ]
  },
  {
   "cell_type": "markdown",
   "id": "bc99b386-7508-47a0-bcdb-d969deaf6c8b",
   "metadata": {},
   "source": [
    "## Exercise: Error Handling for Managing Customer Orders\n",
    "\n",
    "The implementation of your code for managing customer orders assumes that the user will always enter a valid input. \n",
    "\n",
    "For example, we could modify the `initialize_inventory` function to include error handling.\n",
    "   - If the user enters an invalid quantity (e.g., a negative value or a non-numeric value), display an error message and ask them to re-enter the quantity for that product.\n",
    "   - Use a try-except block to handle the error and continue prompting the user until a valid quantity is entered.\n",
    "\n",
    "```python\n",
    "# Step 1: Define the function for initializing the inventory with error handling\n",
    "def initialize_inventory(products):\n",
    "    inventory = {}\n",
    "    for product in products:\n",
    "        valid_quantity = False\n",
    "        while not valid_quantity:\n",
    "            try:\n",
    "                quantity = int(input(f\"Enter the quantity of {product}s available: \"))\n",
    "                if quantity < 0:\n",
    "                    raise ValueError(\"Invalid quantity! Please enter a non-negative value.\")\n",
    "                valid_quantity = True\n",
    "            except ValueError as error:\n",
    "                print(f\"Error: {error}\")\n",
    "        inventory[product] = quantity\n",
    "    return inventory\n",
    "\n",
    "# Or, in another way:\n",
    "\n",
    "def initialize_inventory(products):\n",
    "    inventory = {}\n",
    "    for product in products:\n",
    "        valid_input = False\n",
    "        while not valid_input:\n",
    "            try:\n",
    "                quantity = int(input(f\"Enter the quantity of {product}s available: \"))\n",
    "                if quantity >= 0:\n",
    "                    inventory[product] = quantity\n",
    "                    valid_input = True\n",
    "                else:\n",
    "                    print(\"Quantity cannot be negative. Please enter a valid quantity.\")\n",
    "            except ValueError:\n",
    "                print(\"Invalid input. Please enter a valid quantity.\")\n",
    "    return inventory\n",
    "```\n",
    "\n",
    "Let's enhance your code by implementing error handling to handle invalid inputs.\n",
    "\n",
    "Follow the steps below to complete the exercise:\n",
    "\n",
    "2. Modify the `calculate_total_price` function to include error handling.\n",
    "   - If the user enters an invalid price (e.g., a negative value or a non-numeric value), display an error message and ask them to re-enter the price for that product.\n",
    "   - Use a try-except block to handle the error and continue prompting the user until a valid price is entered.\n",
    "\n",
    "3. Modify the `get_customer_orders` function to include error handling.\n",
    "   - If the user enters an invalid number of orders (e.g., a negative value or a non-numeric value), display an error message and ask them to re-enter the number of orders.\n",
    "   - If the user enters an invalid product name (e.g., a product name that is not in the inventory), or that doesn't have stock available, display an error message and ask them to re-enter the product name. *Hint: you will need to pass inventory as a parameter*\n",
    "   - Use a try-except block to handle the error and continue prompting the user until a valid product name is entered.\n",
    "\n",
    "4. Test your code by running the program and deliberately entering invalid quantities and product names. Make sure the error handling mechanism works as expected.\n"
   ]
  },
  {
   "cell_type": "code",
   "execution_count": 7,
   "id": "b1f9dda1",
   "metadata": {},
   "outputs": [
    {
     "name": "stdout",
     "output_type": "stream",
     "text": [
      "Welcome to the store!\n",
      "Enter the product name (or 'done' to finish): apple\n",
      "Enter the quantity: 4\n",
      "Enter the price for apple: 3\n",
      "Enter the product name (or 'done' to finish): done\n",
      "Customer Orders: {'apple': {'quantity': 4, 'total_price': 12.0}}\n"
     ]
    }
   ],
   "source": [
    "\n",
    "def calculate_total_price(inventory, product, quantity):\n",
    "    while True:\n",
    "        try:\n",
    "            price_per_unit = float(input(f\"Enter the price for {product}: \"))\n",
    "            if price_per_unit < 0:\n",
    "                raise ValueError(\"Invalid price! Please enter a non-negative value.\")\n",
    "            total_price = price_per_unit * quantity\n",
    "            return total_price\n",
    "        except ValueError as error:\n",
    "            print(f\"Error: {error}\")\n",
    "\n",
    "def get_customer_orders(inventory):\n",
    "    customer_orders = {}\n",
    "    while True:\n",
    "        try:\n",
    "            product = input(\"Enter the product name (or 'done' to finish): \")\n",
    "            if product == 'done':\n",
    "                break\n",
    "            if product not in inventory:\n",
    "                raise KeyError(\"Product not found in inventory.\")\n",
    "            \n",
    "            quantity = int(input(\"Enter the quantity: \"))\n",
    "            if quantity < 0:\n",
    "                raise ValueError(\"Invalid quantity! Please enter a non-negative value.\")\n",
    "            if quantity > inventory[product]:\n",
    "                raise ValueError(\"Insufficient stock available.\")\n",
    "\n",
    "            total_price = calculate_total_price(inventory, product, quantity)\n",
    "            customer_orders[product] = {'quantity': quantity, 'total_price': total_price}\n",
    "        \n",
    "        except ValueError as error:\n",
    "            print(f\"Error: {error}\")\n",
    "        except KeyError as error:\n",
    "            print(f\"Error: {error}\")\n",
    "\n",
    "    return customer_orders\n",
    "\n",
    "# Example usage:\n",
    "inventory = {\n",
    "    'apple': 10,\n",
    "    'banana': 5,\n",
    "    'orange': 8\n",
    "}\n",
    "\n",
    "print(\"Welcome to the store!\")\n",
    "orders = get_customer_orders(inventory)\n",
    "print(\"Customer Orders:\", orders)"
   ]
  },
  {
   "cell_type": "code",
   "execution_count": 5,
   "id": "07a7c3de",
   "metadata": {},
   "outputs": [],
   "source": []
  },
  {
   "cell_type": "code",
   "execution_count": null,
   "id": "2ad86293",
   "metadata": {},
   "outputs": [],
   "source": []
  },
  {
   "cell_type": "code",
   "execution_count": 6,
   "id": "8a631db1",
   "metadata": {},
   "outputs": [
    {
     "name": "stdout",
     "output_type": "stream",
     "text": [
      "Test Case 1: Invalid quantity (non-numeric input)\n"
     ]
    },
    {
     "ename": "NameError",
     "evalue": "name 'patch' is not defined",
     "output_type": "error",
     "traceback": [
      "\u001b[0;31m---------------------------------------------------------------------------\u001b[0m",
      "\u001b[0;31mNameError\u001b[0m                                 Traceback (most recent call last)",
      "Cell \u001b[0;32mIn[6], line 13\u001b[0m\n\u001b[1;32m     11\u001b[0m \u001b[38;5;66;03m# Test case 1: Invalid quantity (non-numeric input)\u001b[39;00m\n\u001b[1;32m     12\u001b[0m \u001b[38;5;28mprint\u001b[39m(\u001b[38;5;124m\"\u001b[39m\u001b[38;5;124mTest Case 1: Invalid quantity (non-numeric input)\u001b[39m\u001b[38;5;124m\"\u001b[39m)\n\u001b[0;32m---> 13\u001b[0m \u001b[38;5;28;01mwith\u001b[39;00m patch(\u001b[38;5;124m'\u001b[39m\u001b[38;5;124mbuiltins.input\u001b[39m\u001b[38;5;124m'\u001b[39m, side_effect\u001b[38;5;241m=\u001b[39m[\u001b[38;5;124m\"\u001b[39m\u001b[38;5;124minvalid\u001b[39m\u001b[38;5;124m\"\u001b[39m, \u001b[38;5;124m\"\u001b[39m\u001b[38;5;124m3\u001b[39m\u001b[38;5;124m\"\u001b[39m]):\n\u001b[1;32m     14\u001b[0m     customer_orders \u001b[38;5;241m=\u001b[39m get_customer_orders(inventory)\n\u001b[1;32m     15\u001b[0m \u001b[38;5;28mprint\u001b[39m(\u001b[38;5;124m\"\u001b[39m\u001b[38;5;124mCustomer Orders:\u001b[39m\u001b[38;5;124m\"\u001b[39m, customer_orders)\n",
      "\u001b[0;31mNameError\u001b[0m: name 'patch' is not defined"
     ]
    }
   ],
   "source": []
  },
  {
   "cell_type": "code",
   "execution_count": null,
   "id": "794eb3f0",
   "metadata": {},
   "outputs": [],
   "source": []
  }
 ],
 "metadata": {
  "kernelspec": {
   "display_name": "Python 3 (ipykernel)",
   "language": "python",
   "name": "python3"
  },
  "language_info": {
   "codemirror_mode": {
    "name": "ipython",
    "version": 3
   },
   "file_extension": ".py",
   "mimetype": "text/x-python",
   "name": "python",
   "nbconvert_exporter": "python",
   "pygments_lexer": "ipython3",
   "version": "3.11.7"
  }
 },
 "nbformat": 4,
 "nbformat_minor": 5
}
