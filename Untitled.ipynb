{
 "cells": [
  {
   "cell_type": "code",
   "execution_count": null,
   "id": "1e0153eb",
   "metadata": {},
   "outputs": [],
   "source": [
    "!pip install pygame\n",
    "import pygame\n",
    "import sys\n",
    "\n",
    "# Initialize Pygame\n",
    "pygame.init()\n",
    "\n",
    "# Set up the screen\n",
    "SCREEN_WIDTH = 800\n",
    "SCREEN_HEIGHT = 600\n",
    "screen = pygame.display.set_mode((SCREEN_WIDTH, SCREEN_HEIGHT))\n",
    "pygame.display.set_caption(\"Escape Room\")\n",
    "\n",
    "# Define colors\n",
    "WHITE = (255, 255, 255)\n",
    "BLACK = (0, 0, 0)\n",
    "RED = (255, 0, 0)\n",
    "GREEN = (0, 255, 0)\n",
    "BLUE = (0, 0, 255)\n",
    "\n",
    "# Define game objects\n",
    "player = pygame.Rect(50, 50, 50, 50)\n",
    "door = pygame.Rect(700, 500, 50, 50)\n",
    "\n",
    "# Main game loop\n",
    "running = True\n",
    "while running:\n",
    "    for event in pygame.event.get():\n",
    "        if event.type == pygame.QUIT:\n",
    "            running = False\n",
    "\n",
    "    # Player movement\n",
    "    keys = pygame.key.get_pressed()\n",
    "    if keys[pygame.K_LEFT]:\n",
    "        player.x -= 5\n",
    "    if keys[pygame.K_RIGHT]:\n",
    "        player.x += 5\n",
    "    if keys[pygame.K_UP]:\n",
    "        player.y -= 5\n",
    "    if keys[pygame.K_DOWN]:\n",
    "        player.y += 5\n",
    "\n",
    "    # Collision detection\n",
    "    if player.colliderect(door):\n",
    "        print(\"Congratulations! You escaped the room!\")\n",
    "        pygame.quit()\n",
    "        sys.exit()\n",
    "\n",
    "    # Draw everything\n",
    "    screen.fill(WHITE)\n",
    "    pygame.draw.rect(screen, BLUE, player)\n",
    "    pygame.draw.rect(screen, RED, door)\n",
    "    pygame.display.flip()\n",
    "\n",
    "    # Cap the frame rate\n",
    "    pygame.time.Clock().tick(30)\n",
    "\n",
    "pygame.quit()"
   ]
  },
  {
   "cell_type": "code",
   "execution_count": null,
   "id": "5d4c73df",
   "metadata": {},
   "outputs": [],
   "source": []
  },
  {
   "cell_type": "code",
   "execution_count": null,
   "id": "4ae4e0b8",
   "metadata": {},
   "outputs": [],
   "source": []
  }
 ],
 "metadata": {
  "kernelspec": {
   "display_name": "Python 3 (ipykernel)",
   "language": "python",
   "name": "python3"
  },
  "language_info": {
   "codemirror_mode": {
    "name": "ipython",
    "version": 3
   },
   "file_extension": ".py",
   "mimetype": "text/x-python",
   "name": "python",
   "nbconvert_exporter": "python",
   "pygments_lexer": "ipython3",
   "version": "3.11.7"
  }
 },
 "nbformat": 4,
 "nbformat_minor": 5
}
